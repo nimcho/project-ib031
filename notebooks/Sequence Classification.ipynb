{
 "cells": [
  {
   "cell_type": "code",
   "execution_count": 1,
   "metadata": {},
   "outputs": [
    {
     "name": "stdout",
     "output_type": "stream",
     "text": [
      "/home/luco/python/rnn\n"
     ]
    }
   ],
   "source": [
    "cd .."
   ]
  },
  {
   "cell_type": "code",
   "execution_count": 2,
   "metadata": {
    "collapsed": true
   },
   "outputs": [],
   "source": [
    "%matplotlib inline"
   ]
  },
  {
   "cell_type": "markdown",
   "metadata": {},
   "source": [
    "# Sequence Classification"
   ]
  },
  {
   "cell_type": "markdown",
   "metadata": {},
   "source": [
    "** Objective: ** Capture annual seasonality\n",
    "\n",
    "** Task: ** Classify 12-length sequences of monthly sales of new one-family houses according to which month the sequence begins with (ranging from Jan to Dec)\n",
    "\n",
    "** Method: ** Bidirectional LSTM recurrent neural net\n",
    "\n",
    "** Evaluation: ** Holdout, categorical accuracy, confusion matrix"
   ]
  },
  {
   "cell_type": "code",
   "execution_count": 3,
   "metadata": {},
   "outputs": [
    {
     "name": "stderr",
     "output_type": "stream",
     "text": [
      "Using TensorFlow backend.\n"
     ]
    }
   ],
   "source": [
    "import numpy as np\n",
    "\n",
    "from pandas import read_csv\n",
    "from matplotlib import pyplot\n",
    "from seaborn import heatmap\n",
    "\n",
    "from keras.models import Model\n",
    "from keras.layers import Input, Dense, Dropout, LSTM, Bidirectional\n",
    "from keras.activations import relu, softmax\n",
    "from keras.losses import categorical_crossentropy\n",
    "from keras.optimizers import SGD, adagrad, adadelta, rmsprop\n",
    "from keras.metrics import categorical_accuracy"
   ]
  },
  {
   "cell_type": "markdown",
   "metadata": {},
   "source": [
    "## Data"
   ]
  },
  {
   "cell_type": "code",
   "execution_count": 4,
   "metadata": {},
   "outputs": [
    {
     "data": {
      "text/html": [
       "<div>\n",
       "<table border=\"1\" class=\"dataframe\">\n",
       "  <thead>\n",
       "    <tr style=\"text-align: right;\">\n",
       "      <th></th>\n",
       "      <th>Month</th>\n",
       "      <th>Monthly sales of new one-family houses sold in th e USA since 1973</th>\n",
       "    </tr>\n",
       "  </thead>\n",
       "  <tbody>\n",
       "    <tr>\n",
       "      <th>0</th>\n",
       "      <td>1973-01</td>\n",
       "      <td>55</td>\n",
       "    </tr>\n",
       "    <tr>\n",
       "      <th>1</th>\n",
       "      <td>1973-02</td>\n",
       "      <td>60</td>\n",
       "    </tr>\n",
       "    <tr>\n",
       "      <th>2</th>\n",
       "      <td>1973-03</td>\n",
       "      <td>68</td>\n",
       "    </tr>\n",
       "    <tr>\n",
       "      <th>3</th>\n",
       "      <td>1973-04</td>\n",
       "      <td>63</td>\n",
       "    </tr>\n",
       "    <tr>\n",
       "      <th>4</th>\n",
       "      <td>1973-05</td>\n",
       "      <td>65</td>\n",
       "    </tr>\n",
       "    <tr>\n",
       "      <th>5</th>\n",
       "      <td>1973-06</td>\n",
       "      <td>61</td>\n",
       "    </tr>\n",
       "    <tr>\n",
       "      <th>6</th>\n",
       "      <td>1973-07</td>\n",
       "      <td>54</td>\n",
       "    </tr>\n",
       "    <tr>\n",
       "      <th>7</th>\n",
       "      <td>1973-08</td>\n",
       "      <td>52</td>\n",
       "    </tr>\n",
       "    <tr>\n",
       "      <th>8</th>\n",
       "      <td>1973-09</td>\n",
       "      <td>46</td>\n",
       "    </tr>\n",
       "    <tr>\n",
       "      <th>9</th>\n",
       "      <td>1973-10</td>\n",
       "      <td>42</td>\n",
       "    </tr>\n",
       "    <tr>\n",
       "      <th>10</th>\n",
       "      <td>1973-11</td>\n",
       "      <td>37</td>\n",
       "    </tr>\n",
       "    <tr>\n",
       "      <th>11</th>\n",
       "      <td>1973-12</td>\n",
       "      <td>30</td>\n",
       "    </tr>\n",
       "    <tr>\n",
       "      <th>12</th>\n",
       "      <td>1974-01</td>\n",
       "      <td>37</td>\n",
       "    </tr>\n",
       "    <tr>\n",
       "      <th>13</th>\n",
       "      <td>1974-02</td>\n",
       "      <td>44</td>\n",
       "    </tr>\n",
       "    <tr>\n",
       "      <th>14</th>\n",
       "      <td>1974-03</td>\n",
       "      <td>55</td>\n",
       "    </tr>\n",
       "    <tr>\n",
       "      <th>15</th>\n",
       "      <td>1974-04</td>\n",
       "      <td>53</td>\n",
       "    </tr>\n",
       "    <tr>\n",
       "      <th>16</th>\n",
       "      <td>1974-05</td>\n",
       "      <td>58</td>\n",
       "    </tr>\n",
       "    <tr>\n",
       "      <th>17</th>\n",
       "      <td>1974-06</td>\n",
       "      <td>50</td>\n",
       "    </tr>\n",
       "    <tr>\n",
       "      <th>18</th>\n",
       "      <td>1974-07</td>\n",
       "      <td>48</td>\n",
       "    </tr>\n",
       "    <tr>\n",
       "      <th>19</th>\n",
       "      <td>1974-08</td>\n",
       "      <td>45</td>\n",
       "    </tr>\n",
       "    <tr>\n",
       "      <th>20</th>\n",
       "      <td>1974-09</td>\n",
       "      <td>41</td>\n",
       "    </tr>\n",
       "    <tr>\n",
       "      <th>21</th>\n",
       "      <td>1974-10</td>\n",
       "      <td>34</td>\n",
       "    </tr>\n",
       "    <tr>\n",
       "      <th>22</th>\n",
       "      <td>1974-11</td>\n",
       "      <td>30</td>\n",
       "    </tr>\n",
       "    <tr>\n",
       "      <th>23</th>\n",
       "      <td>1974-12</td>\n",
       "      <td>24</td>\n",
       "    </tr>\n",
       "    <tr>\n",
       "      <th>24</th>\n",
       "      <td>1975-01</td>\n",
       "      <td>29</td>\n",
       "    </tr>\n",
       "    <tr>\n",
       "      <th>25</th>\n",
       "      <td>1975-02</td>\n",
       "      <td>34</td>\n",
       "    </tr>\n",
       "    <tr>\n",
       "      <th>26</th>\n",
       "      <td>1975-03</td>\n",
       "      <td>44</td>\n",
       "    </tr>\n",
       "    <tr>\n",
       "      <th>27</th>\n",
       "      <td>1975-04</td>\n",
       "      <td>54</td>\n",
       "    </tr>\n",
       "    <tr>\n",
       "      <th>28</th>\n",
       "      <td>1975-05</td>\n",
       "      <td>57</td>\n",
       "    </tr>\n",
       "    <tr>\n",
       "      <th>29</th>\n",
       "      <td>1975-06</td>\n",
       "      <td>51</td>\n",
       "    </tr>\n",
       "    <tr>\n",
       "      <th>...</th>\n",
       "      <td>...</td>\n",
       "      <td>...</td>\n",
       "    </tr>\n",
       "    <tr>\n",
       "      <th>245</th>\n",
       "      <td>1993-06</td>\n",
       "      <td>59</td>\n",
       "    </tr>\n",
       "    <tr>\n",
       "      <th>246</th>\n",
       "      <td>1993-07</td>\n",
       "      <td>55</td>\n",
       "    </tr>\n",
       "    <tr>\n",
       "      <th>247</th>\n",
       "      <td>1993-08</td>\n",
       "      <td>57</td>\n",
       "    </tr>\n",
       "    <tr>\n",
       "      <th>248</th>\n",
       "      <td>1993-09</td>\n",
       "      <td>57</td>\n",
       "    </tr>\n",
       "    <tr>\n",
       "      <th>249</th>\n",
       "      <td>1993-10</td>\n",
       "      <td>56</td>\n",
       "    </tr>\n",
       "    <tr>\n",
       "      <th>250</th>\n",
       "      <td>1993-11</td>\n",
       "      <td>53</td>\n",
       "    </tr>\n",
       "    <tr>\n",
       "      <th>251</th>\n",
       "      <td>1993-12</td>\n",
       "      <td>51</td>\n",
       "    </tr>\n",
       "    <tr>\n",
       "      <th>252</th>\n",
       "      <td>1994-01</td>\n",
       "      <td>45</td>\n",
       "    </tr>\n",
       "    <tr>\n",
       "      <th>253</th>\n",
       "      <td>1994-02</td>\n",
       "      <td>58</td>\n",
       "    </tr>\n",
       "    <tr>\n",
       "      <th>254</th>\n",
       "      <td>1994-03</td>\n",
       "      <td>74</td>\n",
       "    </tr>\n",
       "    <tr>\n",
       "      <th>255</th>\n",
       "      <td>1994-04</td>\n",
       "      <td>65</td>\n",
       "    </tr>\n",
       "    <tr>\n",
       "      <th>256</th>\n",
       "      <td>1994-05</td>\n",
       "      <td>65</td>\n",
       "    </tr>\n",
       "    <tr>\n",
       "      <th>257</th>\n",
       "      <td>1994-06</td>\n",
       "      <td>55</td>\n",
       "    </tr>\n",
       "    <tr>\n",
       "      <th>258</th>\n",
       "      <td>1994-07</td>\n",
       "      <td>52</td>\n",
       "    </tr>\n",
       "    <tr>\n",
       "      <th>259</th>\n",
       "      <td>1994-08</td>\n",
       "      <td>59</td>\n",
       "    </tr>\n",
       "    <tr>\n",
       "      <th>260</th>\n",
       "      <td>1994-09</td>\n",
       "      <td>54</td>\n",
       "    </tr>\n",
       "    <tr>\n",
       "      <th>261</th>\n",
       "      <td>1994-10</td>\n",
       "      <td>57</td>\n",
       "    </tr>\n",
       "    <tr>\n",
       "      <th>262</th>\n",
       "      <td>1994-11</td>\n",
       "      <td>45</td>\n",
       "    </tr>\n",
       "    <tr>\n",
       "      <th>263</th>\n",
       "      <td>1994-12</td>\n",
       "      <td>40</td>\n",
       "    </tr>\n",
       "    <tr>\n",
       "      <th>264</th>\n",
       "      <td>1995-01</td>\n",
       "      <td>47</td>\n",
       "    </tr>\n",
       "    <tr>\n",
       "      <th>265</th>\n",
       "      <td>1995-02</td>\n",
       "      <td>47</td>\n",
       "    </tr>\n",
       "    <tr>\n",
       "      <th>266</th>\n",
       "      <td>1995-03</td>\n",
       "      <td>60</td>\n",
       "    </tr>\n",
       "    <tr>\n",
       "      <th>267</th>\n",
       "      <td>1995-04</td>\n",
       "      <td>58</td>\n",
       "    </tr>\n",
       "    <tr>\n",
       "      <th>268</th>\n",
       "      <td>1995-05</td>\n",
       "      <td>63</td>\n",
       "    </tr>\n",
       "    <tr>\n",
       "      <th>269</th>\n",
       "      <td>1995-06</td>\n",
       "      <td>64</td>\n",
       "    </tr>\n",
       "    <tr>\n",
       "      <th>270</th>\n",
       "      <td>1995-07</td>\n",
       "      <td>64</td>\n",
       "    </tr>\n",
       "    <tr>\n",
       "      <th>271</th>\n",
       "      <td>1995-08</td>\n",
       "      <td>63</td>\n",
       "    </tr>\n",
       "    <tr>\n",
       "      <th>272</th>\n",
       "      <td>1995-09</td>\n",
       "      <td>55</td>\n",
       "    </tr>\n",
       "    <tr>\n",
       "      <th>273</th>\n",
       "      <td>1995-10</td>\n",
       "      <td>54</td>\n",
       "    </tr>\n",
       "    <tr>\n",
       "      <th>274</th>\n",
       "      <td>1995-11</td>\n",
       "      <td>44</td>\n",
       "    </tr>\n",
       "  </tbody>\n",
       "</table>\n",
       "<p>275 rows × 2 columns</p>\n",
       "</div>"
      ],
      "text/plain": [
       "       Month  \\\n",
       "0    1973-01   \n",
       "1    1973-02   \n",
       "2    1973-03   \n",
       "3    1973-04   \n",
       "4    1973-05   \n",
       "5    1973-06   \n",
       "6    1973-07   \n",
       "7    1973-08   \n",
       "8    1973-09   \n",
       "9    1973-10   \n",
       "10   1973-11   \n",
       "11   1973-12   \n",
       "12   1974-01   \n",
       "13   1974-02   \n",
       "14   1974-03   \n",
       "15   1974-04   \n",
       "16   1974-05   \n",
       "17   1974-06   \n",
       "18   1974-07   \n",
       "19   1974-08   \n",
       "20   1974-09   \n",
       "21   1974-10   \n",
       "22   1974-11   \n",
       "23   1974-12   \n",
       "24   1975-01   \n",
       "25   1975-02   \n",
       "26   1975-03   \n",
       "27   1975-04   \n",
       "28   1975-05   \n",
       "29   1975-06   \n",
       "..       ...   \n",
       "245  1993-06   \n",
       "246  1993-07   \n",
       "247  1993-08   \n",
       "248  1993-09   \n",
       "249  1993-10   \n",
       "250  1993-11   \n",
       "251  1993-12   \n",
       "252  1994-01   \n",
       "253  1994-02   \n",
       "254  1994-03   \n",
       "255  1994-04   \n",
       "256  1994-05   \n",
       "257  1994-06   \n",
       "258  1994-07   \n",
       "259  1994-08   \n",
       "260  1994-09   \n",
       "261  1994-10   \n",
       "262  1994-11   \n",
       "263  1994-12   \n",
       "264  1995-01   \n",
       "265  1995-02   \n",
       "266  1995-03   \n",
       "267  1995-04   \n",
       "268  1995-05   \n",
       "269  1995-06   \n",
       "270  1995-07   \n",
       "271  1995-08   \n",
       "272  1995-09   \n",
       "273  1995-10   \n",
       "274  1995-11   \n",
       "\n",
       "     Monthly sales of new one-family houses sold in th e USA since 1973  \n",
       "0                                                   55                   \n",
       "1                                                   60                   \n",
       "2                                                   68                   \n",
       "3                                                   63                   \n",
       "4                                                   65                   \n",
       "5                                                   61                   \n",
       "6                                                   54                   \n",
       "7                                                   52                   \n",
       "8                                                   46                   \n",
       "9                                                   42                   \n",
       "10                                                  37                   \n",
       "11                                                  30                   \n",
       "12                                                  37                   \n",
       "13                                                  44                   \n",
       "14                                                  55                   \n",
       "15                                                  53                   \n",
       "16                                                  58                   \n",
       "17                                                  50                   \n",
       "18                                                  48                   \n",
       "19                                                  45                   \n",
       "20                                                  41                   \n",
       "21                                                  34                   \n",
       "22                                                  30                   \n",
       "23                                                  24                   \n",
       "24                                                  29                   \n",
       "25                                                  34                   \n",
       "26                                                  44                   \n",
       "27                                                  54                   \n",
       "28                                                  57                   \n",
       "29                                                  51                   \n",
       "..                                                 ...                   \n",
       "245                                                 59                   \n",
       "246                                                 55                   \n",
       "247                                                 57                   \n",
       "248                                                 57                   \n",
       "249                                                 56                   \n",
       "250                                                 53                   \n",
       "251                                                 51                   \n",
       "252                                                 45                   \n",
       "253                                                 58                   \n",
       "254                                                 74                   \n",
       "255                                                 65                   \n",
       "256                                                 65                   \n",
       "257                                                 55                   \n",
       "258                                                 52                   \n",
       "259                                                 59                   \n",
       "260                                                 54                   \n",
       "261                                                 57                   \n",
       "262                                                 45                   \n",
       "263                                                 40                   \n",
       "264                                                 47                   \n",
       "265                                                 47                   \n",
       "266                                                 60                   \n",
       "267                                                 58                   \n",
       "268                                                 63                   \n",
       "269                                                 64                   \n",
       "270                                                 64                   \n",
       "271                                                 63                   \n",
       "272                                                 55                   \n",
       "273                                                 54                   \n",
       "274                                                 44                   \n",
       "\n",
       "[275 rows x 2 columns]"
      ]
     },
     "execution_count": 4,
     "metadata": {},
     "output_type": "execute_result"
    }
   ],
   "source": [
    "data = read_csv(\"data/monthly-sales-of-new-onefamily-h.csv\", delimiter=\";\")\n",
    "data"
   ]
  },
  {
   "cell_type": "code",
   "execution_count": 5,
   "metadata": {
    "collapsed": true
   },
   "outputs": [],
   "source": [
    "vals = data[\"Monthly sales of new one-family houses sold in th e USA since 1973\"].values"
   ]
  },
  {
   "cell_type": "code",
   "execution_count": 6,
   "metadata": {},
   "outputs": [
    {
     "data": {
      "text/plain": [
       "[<matplotlib.lines.Line2D at 0x7f224f43ed10>]"
      ]
     },
     "execution_count": 6,
     "metadata": {},
     "output_type": "execute_result"
    },
    {
     "data": {
      "image/png": "[encoded data removed]",
      "text/plain": [
       "<matplotlib.figure.Figure at 0x7f224fd1a750>"
      ]
     },
     "metadata": {},
     "output_type": "display_data"
    }
   ],
   "source": [
    "pyplot.subplots(figsize=(16,4))\n",
    "pyplot.plot(vals)"
   ]
  },
  {
   "cell_type": "markdown",
   "metadata": {},
   "source": [
    "If we look closer, there is an apparent annual seasonality in the data - peaks during springs, craters during winters"
   ]
  },
  {
   "cell_type": "code",
   "execution_count": 7,
   "metadata": {},
   "outputs": [
    {
     "data": {
      "text/plain": [
       "[<matplotlib.lines.Line2D at 0x7f224d343850>]"
      ]
     },
     "execution_count": 7,
     "metadata": {},
     "output_type": "execute_result"
    },
    {
     "data": {
      "image/png": "[encoded data removed]",
      "text/plain": [
       "<matplotlib.figure.Figure at 0x7f224f46dc50>"
      ]
     },
     "metadata": {},
     "output_type": "display_data"
    }
   ],
   "source": [
    "pyplot.subplots(figsize=(16,4))\n",
    "pyplot.plot(vals[:60])  # first 60 months"
   ]
  },
  {
   "cell_type": "markdown",
   "metadata": {},
   "source": [
    "### Year 1995 (the last one) contains only 11 months $\\longrightarrow$ discard it"
   ]
  },
  {
   "cell_type": "code",
   "execution_count": 8,
   "metadata": {},
   "outputs": [
    {
     "name": "stdout",
     "output_type": "stream",
     "text": [
      "264\n"
     ]
    }
   ],
   "source": [
    "vals = vals[:-11]\n",
    "print len(vals)"
   ]
  },
  {
   "cell_type": "markdown",
   "metadata": {},
   "source": [
    "### Sanity checks"
   ]
  },
  {
   "cell_type": "code",
   "execution_count": 9,
   "metadata": {},
   "outputs": [
    {
     "name": "stdout",
     "output_type": "stream",
     "text": [
      "True\n",
      "True\n"
     ]
    }
   ],
   "source": [
    "print len(vals) % 12 == 0\n",
    "print len(vals) / 12 == 1995 - 1973"
   ]
  },
  {
   "cell_type": "markdown",
   "metadata": {},
   "source": [
    "## Vectorizing Data"
   ]
  },
  {
   "cell_type": "code",
   "execution_count": 10,
   "metadata": {
    "collapsed": true
   },
   "outputs": [],
   "source": [
    "eye = np.eye(12)  # identity matrix\n",
    "\n",
    "x = np.zeros((264 - 11, 12, 1))\n",
    "y = np.zeros((264 - 11, 12))\n",
    "\n",
    "for i in range(264 - 11):\n",
    "    x[i,:,0]= vals[i:i+12]\n",
    "    y[i,:] = eye[i % 12]"
   ]
  },
  {
   "cell_type": "markdown",
   "metadata": {},
   "source": [
    "## Holdout\n",
    "### Split into Train/Test Sets"
   ]
  },
  {
   "cell_type": "code",
   "execution_count": 11,
   "metadata": {
    "collapsed": true
   },
   "outputs": [],
   "source": [
    "thr = 16 * 12  # NB_YEARS * 12 (months)\n",
    "\n",
    "x_train_temp = x[:thr]\n",
    "y_train_temp = y[:thr]\n",
    "\n",
    "x_test = x[thr:]\n",
    "y_test = y[thr:]"
   ]
  },
  {
   "cell_type": "code",
   "execution_count": 12,
   "metadata": {},
   "outputs": [
    {
     "data": {
      "text/plain": [
       "(192, 61)"
      ]
     },
     "execution_count": 12,
     "metadata": {},
     "output_type": "execute_result"
    }
   ],
   "source": [
    "len(x_train_temp), len(x_test)"
   ]
  },
  {
   "cell_type": "markdown",
   "metadata": {},
   "source": [
    "## Noisy Data Enlargement"
   ]
  },
  {
   "cell_type": "markdown",
   "metadata": {},
   "source": [
    "We can do the task with no special preprocessing, but there is way too few data - the model would overfit easily.\n",
    "\n",
    "It is possible to gain 10-20% more accurracy by making noisy copies of the train set."
   ]
  },
  {
   "cell_type": "code",
   "execution_count": 13,
   "metadata": {
    "collapsed": true
   },
   "outputs": [],
   "source": [
    "nb_copies = 50\n",
    "\n",
    "x_train = np.concatenate([\n",
    "    x_train_temp\n",
    "    + 30 * np.random.random() - 15  # global offset with a (possibly large) scalar\n",
    "    + 2 * np.random.random(x_train_temp.shape) - 1  # small element-wise offset\n",
    "    for _ in range(nb_copies)\n",
    "])\n",
    "y_train = np.concatenate([\n",
    "    y_train_temp\n",
    "    for _ in range(nb_copies)\n",
    "])"
   ]
  },
  {
   "cell_type": "code",
   "execution_count": 14,
   "metadata": {},
   "outputs": [
    {
     "name": "stdout",
     "output_type": "stream",
     "text": [
      "(9600, 12, 1)\n",
      "(9600, 12)\n",
      "(61, 12, 1)\n",
      "(61, 12)\n"
     ]
    }
   ],
   "source": [
    "print x_train.shape\n",
    "print y_train.shape\n",
    "print x_test.shape\n",
    "print y_test.shape"
   ]
  },
  {
   "cell_type": "markdown",
   "metadata": {},
   "source": [
    "## Model Architecture"
   ]
  },
  {
   "cell_type": "markdown",
   "metadata": {},
   "source": [
    "Let's use a popular *Keras* deep learning library to define the model's architecture in a shortest and clearest possible way with best practices configured as a default behavior.  \n",
    "\n",
    "In natural language - 2-layered bidirectional LSTM followed by two dense layers with relu activations followed by softmax classifier."
   ]
  },
  {
   "cell_type": "code",
   "execution_count": 15,
   "metadata": {
    "collapsed": true
   },
   "outputs": [],
   "source": [
    "def get_model(weights_filename=None):\n",
    "    \n",
    "    inp = Input(shape=(None, 1))  # variable-length list of integers\n",
    "\n",
    "    l = Bidirectional(LSTM(128, return_sequences=True), merge_mode=\"concat\")(inp)\n",
    "    l = Dropout(0.6)(l)\n",
    "    l = Bidirectional(LSTM(64), merge_mode=\"concat\")(l)\n",
    "    l = Dropout(0.3)(l)\n",
    "    \n",
    "    l = Dense(32, activation=relu)(l)\n",
    "    l = Dropout(0.2)(l)\n",
    "    l = Dense(32, activation=relu)(l)\n",
    "    l = Dropout(0.2)(l)\n",
    "    \n",
    "    out = Dense(12, activation=softmax)(l)\n",
    "    \n",
    "    model = Model(inputs=inp, outputs=out)\n",
    "    \n",
    "    model.compile(\n",
    "        loss=categorical_crossentropy,\n",
    "        optimizer=rmsprop(),\n",
    "        metrics=[categorical_accuracy]\n",
    "    )\n",
    "    \n",
    "    if weights_filename is not None:\n",
    "        model.load_weights(weights_filename)\n",
    "    \n",
    "    return model"
   ]
  },
  {
   "cell_type": "markdown",
   "metadata": {},
   "source": [
    "## Model & Training"
   ]
  },
  {
   "cell_type": "code",
   "execution_count": 16,
   "metadata": {
    "collapsed": true
   },
   "outputs": [],
   "source": [
    "model = get_model()"
   ]
  },
  {
   "cell_type": "markdown",
   "metadata": {},
   "source": [
    "We can watch losses and accurracies on train and test sets throughout the training."
   ]
  },
  {
   "cell_type": "code",
   "execution_count": 17,
   "metadata": {},
   "outputs": [
    {
     "name": "stdout",
     "output_type": "stream",
     "text": [
      "Train on 9600 samples, validate on 61 samples\n",
      "Epoch 1/5\n",
      "9600/9600 [==============================] - 22s - loss: 2.4704 - categorical_accuracy: 0.1032 - val_loss: 2.2595 - val_categorical_accuracy: 0.1639\n",
      "Epoch 2/5\n",
      "9600/9600 [==============================] - 21s - loss: 1.8495 - categorical_accuracy: 0.2948 - val_loss: 1.0657 - val_categorical_accuracy: 0.6721\n",
      "Epoch 3/5\n",
      "9600/9600 [==============================] - 24s - loss: 1.2822 - categorical_accuracy: 0.4912 - val_loss: 0.9113 - val_categorical_accuracy: 0.7049\n",
      "Epoch 4/5\n",
      "9600/9600 [==============================] - 22s - loss: 0.9760 - categorical_accuracy: 0.6192 - val_loss: 0.6647 - val_categorical_accuracy: 0.6721\n",
      "Epoch 5/5\n",
      "9600/9600 [==============================] - 21s - loss: 0.7934 - categorical_accuracy: 0.6905 - val_loss: 0.8238 - val_categorical_accuracy: 0.7377\n"
     ]
    },
    {
     "data": {
      "text/plain": [
       "<keras.callbacks.History at 0x7f223619c090>"
      ]
     },
     "execution_count": 17,
     "metadata": {},
     "output_type": "execute_result"
    }
   ],
   "source": [
    "model.fit(x=x_train, y=y_train, validation_data=(x_test, y_test),\n",
    "          verbose=1, epochs=5, batch_size=64)"
   ]
  },
  {
   "cell_type": "markdown",
   "metadata": {},
   "source": [
    "#### Note\n",
    "\n",
    "In first few epochs, losses and accurracies on validation set are higher than on train set.  Apparently, that is because dropout is not used on validation set. \n",
    "\n",
    "After 5. epoch, the acc on train set is already 89% without dropout."
   ]
  },
  {
   "cell_type": "code",
   "execution_count": 18,
   "metadata": {},
   "outputs": [
    {
     "name": "stdout",
     "output_type": "stream",
     "text": [
      "9568/9600 [============================>.] - ETA: 0s"
     ]
    },
    {
     "data": {
      "text/plain": [
       "[0.35827225764592491, 0.89718750000000003]"
      ]
     },
     "execution_count": 18,
     "metadata": {},
     "output_type": "execute_result"
    }
   ],
   "source": [
    "model.evaluate(x=x_train, y=y_train)"
   ]
  },
  {
   "cell_type": "markdown",
   "metadata": {},
   "source": [
    "It can go up to 100%, but it hurts the acc on test set at that point."
   ]
  },
  {
   "cell_type": "markdown",
   "metadata": {},
   "source": [
    "## Confusion Matrix"
   ]
  },
  {
   "cell_type": "markdown",
   "metadata": {},
   "source": [
    "We are interested in confusion matrix as confusing March with April is more tolerable than confusing March with September."
   ]
  },
  {
   "cell_type": "code",
   "execution_count": 19,
   "metadata": {
    "collapsed": true
   },
   "outputs": [],
   "source": [
    "predictions = model.predict(x_test)"
   ]
  },
  {
   "cell_type": "code",
   "execution_count": 20,
   "metadata": {},
   "outputs": [
    {
     "data": {
      "text/plain": [
       "(array([  0.5,   1.5,   2.5,   3.5,   4.5,   5.5,   6.5,   7.5,   8.5,\n",
       "          9.5,  10.5,  11.5]), <a list of 12 Text yticklabel objects>)"
      ]
     },
     "execution_count": 20,
     "metadata": {},
     "output_type": "execute_result"
    },
    {
     "data": {
      "image/png": "[encoded data removed]",
      "text/plain": [
       "<matplotlib.figure.Figure at 0x7f2235f97b90>"
      ]
     },
     "metadata": {},
     "output_type": "display_data"
    }
   ],
   "source": [
    "confusion_matrix = np.zeros((12, 12), dtype=np.int32)\n",
    "\n",
    "for i in range(len(y_test)):\n",
    "\n",
    "    row_i = np.argmax(y_test[i])\n",
    "    col_i = np.argmax(predictions[i])\n",
    "    \n",
    "    confusion_matrix[row_i, col_i] += 1\n",
    "\n",
    "heatmap(confusion_matrix, annot=True,\n",
    "        xticklabels=range(1, 13),\n",
    "        yticklabels=range(1, 13))\n",
    "pyplot.yticks(rotation=0)"
   ]
  },
  {
   "cell_type": "markdown",
   "metadata": {},
   "source": [
    "We can see that the model never confuses months beyond the neighborhooding ones (on test set).  And that is quite nice."
   ]
  },
  {
   "cell_type": "markdown",
   "metadata": {},
   "source": [
    "## Conclusion"
   ]
  },
  {
   "cell_type": "markdown",
   "metadata": {},
   "source": [
    "Bidirectional LSTM is perfectly capable of capturing seasonal variations.\n",
    "\n",
    "When there is too few data, better results can be achieved with noisy data enlargement."
   ]
  }
 ],
 "metadata": {
  "kernelspec": {
   "display_name": "Python 2",
   "language": "python",
   "name": "python2"
  },
  "language_info": {
   "codemirror_mode": {
    "name": "ipython",
    "version": 2
   },
   "file_extension": ".py",
   "mimetype": "text/x-python",
   "name": "python",
   "nbconvert_exporter": "python",
   "pygments_lexer": "ipython2",
   "version": "2.7.12"
  }
 },
 "nbformat": 4,
 "nbformat_minor": 2
}
